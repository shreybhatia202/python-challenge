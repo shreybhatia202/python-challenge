{
 "cells": [
  {
   "cell_type": "code",
   "execution_count": 1,
   "metadata": {},
   "outputs": [],
   "source": [
    "import os\n",
    "import csv\n"
   ]
  },
  {
   "cell_type": "code",
   "execution_count": 22,
   "metadata": {},
   "outputs": [
    {
     "name": "stdout",
     "output_type": "stream",
     "text": [
      "Election Results\n",
      "-------------------------------------\n",
      "Total Votes: 3521005\n",
      "-------------------------------------\n",
      "Khan: 50.0% (2218231)\n",
      "Correy: 25.0% (704200)\n",
      "Li: 25.0% (492940)\n",
      "O'Tooley: 40.0% (105630)\n",
      "-------------------------------------\n",
      "Winner: O'Tooley\n",
      "------------------------------------- \n"
     ]
    }
   ],
   "source": [
    "data_file = \"election_data.csv\"\n",
    "output_file = \"election_result.txt\"\n",
    "\n",
    "number_of_votes = 0\n",
    "no_of_candidates = 0\n",
    "candidate_list = []\n",
    "candidate_votes = {}\n",
    "vote_percentage = []\n",
    "winner = \"\"\n",
    "max = 0\n",
    "\n",
    "csvpath = os.path.join('election_data.csv')\n",
    "\n",
    "with open(csvpath, newline='') as csvfile:\n",
    "    csvreader = csv.reader(csvfile, delimiter=',')\n",
    "    next(csvreader, None)\n",
    "\n",
    "    for row in csvreader:\n",
    "        \n",
    "        voter_id = row[0]\n",
    "        county = row[1]\n",
    "        candidate = row[2]\n",
    "            \n",
    "        number_of_votes  = number_of_votes + 1\n",
    "        \n",
    "        if candidate in candidate_list:\n",
    "            candidate_votes[candidate] += 1\n",
    "        else:\n",
    "            candidate_list.append(candidate)\n",
    "            candidate_votes[candidate] = 1\n",
    "            number_of_votes += 1\n",
    "        \n",
    "        for i in range(len(candidate_list)):\n",
    "            vote_share = round((candidate_votes[candidate_list[i]]/number_of_votes)*100, 3)\n",
    "            vote_percentage.append(vote_share)\n",
    "       \n",
    "        if candidate_votes[candidate_list[i]] > max:\n",
    "            max = candidate_votes[candidate_list[i]]\n",
    "            winner = candidate_list[i]\n",
    "\n",
    "        \n",
    "     \n",
    "    print(\"Election Results\")\n",
    "    print(\"-------------------------------------\")\n",
    "    print(\"Total Votes: \" + str(number_of_votes))\n",
    "    print(\"-------------------------------------\")\n",
    "    for i in range(len(candidate_list)):\n",
    "        print(str(candidate_list[i]) + \": \" + str(vote_percentage[i]) + \"% (\" + str(candidate_votes[candidate_list[i]]) + \")\")\n",
    "    print(\"-------------------------------------\")\n",
    "    print(\"Winner: \" + str(winner))\n",
    "    print(\"------------------------------------- \")"
   ]
  },
  {
   "cell_type": "code",
   "execution_count": null,
   "metadata": {},
   "outputs": [],
   "source": []
  },
  {
   "cell_type": "code",
   "execution_count": 27,
   "metadata": {},
   "outputs": [],
   "source": [
    "\n",
    "with open(\"election_result.txt\",\"w\") as output_file:\n",
    "    output_file.write(\"Election Results\") \n",
    "    output_file.write(\"\\n\")\n",
    "    output_file.write(\"------------------\")\n",
    "    output_file.write(\"Total Votes: \" + str(number_of_votes))\n",
    "    output_file.write(\"\\n\")\n",
    "    output_file.write(\"------------------\")\n",
    "    for i in range(len(candidate_list)):\n",
    "        output_file.write(str(candidate_list[i]) + \": \" + str(vote_percentage[i]) + \"% (\" + str(candidate_votes[candidate_list[i]]) + \")\")\n",
    "    \n",
    "    output_file.write(\"\\n\")\n",
    "    output_file.write(\"-----------------\")\n",
    "    output_file.write(\"Winner: \" + str(winner))\n",
    "    output_file.write(\"------------------\")"
   ]
  },
  {
   "cell_type": "code",
   "execution_count": null,
   "metadata": {},
   "outputs": [],
   "source": []
  }
 ],
 "metadata": {
  "kernelspec": {
   "display_name": "Python 3",
   "language": "python",
   "name": "python3"
  },
  "language_info": {
   "codemirror_mode": {
    "name": "ipython",
    "version": 3
   },
   "file_extension": ".py",
   "mimetype": "text/x-python",
   "name": "python",
   "nbconvert_exporter": "python",
   "pygments_lexer": "ipython3",
   "version": "3.7.3"
  }
 },
 "nbformat": 4,
 "nbformat_minor": 2
}
