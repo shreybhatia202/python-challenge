{
 "cells": [
  {
   "cell_type": "code",
   "execution_count": 70,
   "metadata": {},
   "outputs": [],
   "source": [
    "import csv\n"
   ]
  },
  {
   "cell_type": "code",
   "execution_count": 126,
   "metadata": {},
   "outputs": [
    {
     "name": "stdout",
     "output_type": "stream",
     "text": [
      "Months: 86\n",
      "Total Revenue: $38382578\n",
      "Average Change: $446309.05\n",
      "Greatest Increase: Feb-2012 $499494\n",
      "Greatest Decrease: Sep-2013 $-1867324\n"
     ]
    }
   ],
   "source": [
    "data_file = \"budget_data.csv\"\n",
    "output_file = \"budget_result.txt\"\n",
    "\n",
    "number_of_months = 0\n",
    "total_revenue = 0\n",
    "\n",
    "greatest_increase = [\"\", 0]\n",
    "greatest_decrease = [\"\", 1000000000000]\n",
    "\n",
    "revenue_changes = []\n",
    "\n",
    "with open(data_file) as revenue_data:\n",
    "    reader = csv.DictReader(revenue_data)\n",
    "\n",
    "    for row in reader:\n",
    "\n",
    "        number_of_months  = number_of_months  + 1\n",
    "        \n",
    "        total_revenue = total_revenue + int(row[\"Profit/Losses\"])\n",
    "        \n",
    "        revenue_change = int(row[\"Profit/Losses\"]) - prev_revenue\n",
    "        \n",
    "        previous_revenue = int(row[\"Profit/Losses\"])\n",
    "        \n",
    "        if (revenue_change > greatest_increase[1]):\n",
    "            greatest_increase[1] = revenue_change\n",
    "            greatest_increase[0] = row[\"Date\"]\n",
    "\n",
    "        if (revenue_change < greatest_decrease[1]):\n",
    "            greatest_decrease[1] = revenue_change\n",
    "            greatest_decrease[0] = row[\"Date\"]\n",
    "\n",
    "     \n",
    "        revenue_changes.append(int(row[\"Profit/Losses\"]))\n",
    "\n",
    "    revenue_avg = sum(revenue_changes) / len(revenue_changes)   \n",
    " \n",
    "\n",
    "  \n",
    "print((\"Months: \" + str(number_of_months)) + \"\\n\" +\n",
    "        (\"Total Revenue: $\" + str(total_revenue)) + \"\\n\" + \n",
    "        (\"Average Change: $\" + str(round(sum(revenue_changes) / len(revenue_changes),2))) + \"\\n\" +\n",
    "        (\"Greatest Increase: \" + str(greatest_increase[0]) + \" $\" +  str(greatest_increase[1])) + \"\\n\" +\n",
    "        (\"Greatest Decrease: \" + str(greatest_decrease[0]) + \" $\" +  str(greatest_decrease[1])))\n",
    "     \n",
    "\n",
    "\n",
    "with open(\"budget_result.txt\",\"w\") as output_file:\n",
    "    \n",
    "    output_file.write(\"Months: \" + str(number_of_months)) \n",
    "    output_file.write(\"\\n\")\n",
    "    output_file.write(\"Total Revenue: $\" + str(total_revenue))\n",
    "    output_file.write(\"\\n\")\n",
    "    output_file.write(\"Average Change: $\" + str(round(sum(revenue_changes) / len(revenue_changes),2)))\n",
    "    output_file.write(\"\\n\")\n",
    "    output_file.write(\"Greatest Increase: \" + str(greatest_increase[0]) + \" $\" +  str(greatest_increase[1]))\n",
    "    output_file.write(\"\\n\")\n",
    "    output_file.write(\"Greatest Decrease: \" + str(greatest_decrease[0]) + \" $\" +  str(greatest_decrease[1]))\n",
    "           \n",
    "            \n",
    "             \n",
    "            \n",
    "    \n",
    "     "
   ]
  },
  {
   "cell_type": "code",
   "execution_count": null,
   "metadata": {},
   "outputs": [],
   "source": [
    "\n"
   ]
  },
  {
   "cell_type": "code",
   "execution_count": null,
   "metadata": {},
   "outputs": [],
   "source": []
  }
 ],
 "metadata": {
  "kernelspec": {
   "display_name": "Python 3",
   "language": "python",
   "name": "python3"
  },
  "language_info": {
   "codemirror_mode": {
    "name": "ipython",
    "version": 3
   },
   "file_extension": ".py",
   "mimetype": "text/x-python",
   "name": "python",
   "nbconvert_exporter": "python",
   "pygments_lexer": "ipython3",
   "version": "3.7.3"
  }
 },
 "nbformat": 4,
 "nbformat_minor": 2
}
